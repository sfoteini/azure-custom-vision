{
 "cells": [
  {
   "cell_type": "markdown",
   "metadata": {},
   "source": [
    "## Import libraries"
   ]
  },
  {
   "cell_type": "code",
   "execution_count": null,
   "metadata": {},
   "outputs": [],
   "source": [
    "from azure.cognitiveservices.vision.customvision.prediction import CustomVisionPredictionClient\n",
    "from msrest.authentication import ApiKeyCredentials\n",
    "from PIL import Image, ImageDraw\n",
    "import matplotlib.pyplot as plt\n",
    "import numpy as np\n",
    "import os\n",
    "\n",
    "%matplotlib inline"
   ]
  },
  {
   "cell_type": "code",
   "execution_count": null,
   "metadata": {},
   "outputs": [],
   "source": [
    "# Create variables for your project\n",
    "publish_iteration_name = \"Iteration2\"\n",
    "project_id = \"<YOUR_PROJECT_ID>\"\n",
    "\n",
    "# Create variables for your prediction resource\n",
    "prediction_key = \"<YOUR_KEY>\"\n",
    "endpoint = \"<YOUR_ENDPOINT>\"\n",
    "\n",
    "prediction_credentials = ApiKeyCredentials(in_headers={\"Prediction-key\": prediction_key})\n",
    "predictor = CustomVisionPredictionClient(endpoint, prediction_credentials)"
   ]
  },
  {
   "cell_type": "code",
   "execution_count": null,
   "metadata": {},
   "outputs": [],
   "source": [
    "# Load a test image and get its dimensions\n",
    "img_file = os.path.join('Images', 'Test', 'test (1).jpg')\n",
    "img = Image.open(img_file)\n",
    "img_height, img_width, img_ch = np.array(img).shape"
   ]
  },
  {
   "cell_type": "code",
   "execution_count": null,
   "metadata": {},
   "outputs": [],
   "source": [
    "# Detect objects in the test image\n",
    "with open(img_file, mode=\"rb\") as test_img:\n",
    "    results = predictor.detect_image(project_id, publish_iteration_name, test_img)"
   ]
  },
  {
   "cell_type": "code",
   "execution_count": null,
   "metadata": {},
   "outputs": [],
   "source": [
    "# Create a figure to display the results\n",
    "fig = plt.figure(figsize=(8, 8))\n",
    "plt.axis('off')\n",
    "\n",
    "# Display the image\n",
    "draw = ImageDraw.Draw(img)\n",
    "\n",
    "# Select line width and color for the bounding box\n",
    "lineWidth = int(img_width/100)\n",
    "object_colors = {\n",
    "    \"tomato\": \"yellow\",\n",
    "    \"cucumber\": \"cyan\",\n",
    "    \"pepper\": \"orange\"\n",
    "}\n",
    "\n",
    "# Display the results\n",
    "for prediction in results.predictions:\n",
    "    color = 'white' # default\n",
    "    if (prediction.probability*100) > 50:\n",
    "        if prediction.tag_name in object_colors:\n",
    "            color = object_colors[prediction.tag_name]\n",
    "        left = prediction.bounding_box.left * img_width\n",
    "        top = prediction.bounding_box.top * img_height\n",
    "        height = prediction.bounding_box.height * img_height\n",
    "        width =  prediction.bounding_box.width * img_width\n",
    "        # Create a rectangle\n",
    "        draw.rectangle((left, top, left+width, top+height), outline=color, width=lineWidth)\n",
    "        # Display tags and probabilities\n",
    "        plt.annotate(f\"{prediction.tag_name}: {prediction.probability * 100 :.2f}%\",(left,top), backgroundcolor=color)\n",
    "plt.imshow(img)"
   ]
  }
 ],
 "metadata": {
  "interpreter": {
   "hash": "2deb099b60a8b4da913787c955f1d57026f67c6109413fa49af9a1fc936f94ce"
  },
  "kernelspec": {
   "display_name": "Python 3.9.6 64-bit",
   "name": "python3"
  },
  "language_info": {
   "codemirror_mode": {
    "name": "ipython",
    "version": 3
   },
   "file_extension": ".py",
   "mimetype": "text/x-python",
   "name": "python",
   "nbconvert_exporter": "python",
   "pygments_lexer": "ipython3",
   "version": "3.9.6"
  },
  "orig_nbformat": 4
 },
 "nbformat": 4,
 "nbformat_minor": 2
}
